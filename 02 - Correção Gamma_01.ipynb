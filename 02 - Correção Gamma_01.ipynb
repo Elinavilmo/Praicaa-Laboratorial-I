{
 "cells": [
  {
   "cell_type": "code",
   "execution_count": null,
   "metadata": {},
   "outputs": [],
   "source": [
    "from PIL import Image\n",
    "from skimage import io\n",
    "from glob import glob\n",
    "import os"
   ]
  },
  {
   "cell_type": "code",
   "execution_count": null,
   "metadata": {},
   "outputs": [],
   "source": [
    "#img = Image.open('dog01.jpg')\n",
    "path = ('caminho')\n",
    "files = glob(path +'/*jpg')"
   ]
  },
  {
   "cell_type": "code",
   "execution_count": null,
   "metadata": {},
   "outputs": [],
   "source": []
  },
  {
   "cell_type": "code",
   "execution_count": null,
   "metadata": {},
   "outputs": [],
   "source": [
    "gamma = 0.5\n",
    "for file in files:\n",
    "    img = Image.open(file)\n",
    "    matrix = img.load()\n",
    "    name = os.path.basename(file)\n",
    "    for i in range(img.size[0]):\n",
    "        for j in range(img.size[1]):\n",
    "            r = int((matrix[i,j][0]/255) ** gamma * 255) \n",
    "            g = int((matrix[i,j][1]/255) ** gamma * 255) \n",
    "            b = int((matrix[i,j][2]/255) ** gamma * 255) \n",
    "            matrix[i,j] = (r,g,b)\n",
    "    img.save('C:/Tecnologias Digitais na Educação (TED)/UFBA 2021/Tópicos em Computação Visual I/dataset/Pets_Dataset_New/Obs-Imagens Padronizadas/02 - Correção gamma/test/gamma_0.5/cats/' + name) "
   ]
  },
  {
   "cell_type": "code",
   "execution_count": null,
   "metadata": {},
   "outputs": [],
   "source": [
    "#img = matrix[i,j] \n",
    "#io.imsave(fname ='dog01_.jpg',arr=img)\n",
    "#img.save('dog01_.jpg') "
   ]
  },
  {
   "cell_type": "code",
   "execution_count": null,
   "metadata": {},
   "outputs": [],
   "source": []
  }
 ],
 "metadata": {
  "kernelspec": {
   "display_name": "Python 3",
   "language": "python",
   "name": "python3"
  },
  "language_info": {
   "codemirror_mode": {
    "name": "ipython",
    "version": 3
   },
   "file_extension": ".py",
   "mimetype": "text/x-python",
   "name": "python",
   "nbconvert_exporter": "python",
   "pygments_lexer": "ipython3",
   "version": "3.8.5"
  }
 },
 "nbformat": 4,
 "nbformat_minor": 4
}
