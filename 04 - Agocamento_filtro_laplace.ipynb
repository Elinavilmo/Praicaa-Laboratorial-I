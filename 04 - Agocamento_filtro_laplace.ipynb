{
 "cells": [
  {
   "cell_type": "code",
   "execution_count": null,
   "metadata": {},
   "outputs": [],
   "source": [
    "from PIL import Image\n",
    "from skimage import io\n",
    "from skimage.filters import laplace\n",
    "#skimage.filters.laplace(img, ksize, mask) - Função para filtro Laplace;\n",
    "from glob import glob\n",
    "import os"
   ]
  },
  {
   "cell_type": "code",
   "execution_count": null,
   "metadata": {},
   "outputs": [],
   "source": [
    "path = ('caminho')\n",
    "files = glob(path +'/*jpg')"
   ]
  },
  {
   "cell_type": "code",
   "execution_count": null,
   "metadata": {},
   "outputs": [],
   "source": [
    "for file in files:\n",
    "    img = io.imread(file) \n",
    "    name = os.path.basename(file)\n",
    "    laplace_img = laplace(img)\n",
    "    io.imsave(fname ='C:/Tecnologias Digitais na Educação (TED)/UFBA 2021/Tópicos em Computação Visual I/dataset/Pets_Dataset_New/Obs-Imagens Padronizadas/04 - Agocamento_filtro_laplace/test/cats/' + name, arr=laplace_img)"
   ]
  },
  {
   "cell_type": "code",
   "execution_count": null,
   "metadata": {},
   "outputs": [],
   "source": []
  }
 ],
 "metadata": {
  "kernelspec": {
   "display_name": "Python 3",
   "language": "python",
   "name": "python3"
  },
  "language_info": {
   "codemirror_mode": {
    "name": "ipython",
    "version": 3
   },
   "file_extension": ".py",
   "mimetype": "text/x-python",
   "name": "python",
   "nbconvert_exporter": "python",
   "pygments_lexer": "ipython3",
   "version": "3.8.5"
  }
 },
 "nbformat": 4,
 "nbformat_minor": 4
}
