{
 "cells": [
  {
   "cell_type": "code",
   "execution_count": null,
   "metadata": {},
   "outputs": [],
   "source": [
    "from skimage import io, color, filters, img_as_ubyte, exposure\n",
    "import matplotlib.pyplot as plt\n",
    "import numpy as np\n",
    "import math\n",
    "from PIL import Image\n",
    "import os"
   ]
  },
  {
   "cell_type": "code",
   "execution_count": null,
   "metadata": {},
   "outputs": [],
   "source": [
    "img = io.imread('caminho')\n",
    "img.shape"
   ]
  },
  {
   "cell_type": "code",
   "execution_count": null,
   "metadata": {},
   "outputs": [],
   "source": [
    "#01-Mudança de luminação Global\n",
    "plt.imshow(img)"
   ]
  },
  {
   "cell_type": "code",
   "execution_count": null,
   "metadata": {},
   "outputs": [],
   "source": [
    "gray = color.rgb2gray(img)\n",
    "\n",
    "plt.figure(figsize=(10,5))\n",
    "#b, bins, patches = plt.hist(gray.ravel())\n",
    "b, bins, patches = plt.hist(img.ravel())\n",
    "plt.title('Histograma de imagem em escala de cinza')\n",
    "plt.show()"
   ]
  },
  {
   "cell_type": "code",
   "execution_count": null,
   "metadata": {},
   "outputs": [],
   "source": [
    "#Manipulação com canais de cor\n",
    "file = 'C:/Tecnologias Digitais na Educação (TED)/UFBA 2021\\Tópicos em Computação Visual I/dataset/Pets_Dataset_New/Obs-Imagens Padronizadas/05 - Roteiro II/RGB Histogram/selcionadas_train/cat.2332.jpg'\n",
    "img = Image.open(file)\n",
    "matrix = img.load()\n",
    "name = os.path.basename(file)\n",
    "for i in range(img.size[0]):\n",
    "        for j in range(img.size[1]):\n",
    "            r = (int((matrix[i,j][0]/255) * 255) * 10) + 10\n",
    "            g = (int((matrix[i,j][1]/255) * 255) * 10) + 10\n",
    "            b = (int((matrix[i,j][2]/255) * 255) * 10) + 10\n",
    "            #r = int((matrix[i,j][0]/255) * 255) + 10\n",
    "            #g = int((matrix[i,j][1]/255) * 255) + 10\n",
    "            #b = int((matrix[i,j][2]/255) * 255) + 10\n",
    "            matrix[i,j] = (r,g,b)\n",
    "img.save('C:/Tecnologias Digitais na Educação (TED)/UFBA 2021\\Tópicos em Computação Visual I/dataset/Pets_Dataset_New/Obs-Imagens Padronizadas/05 - Roteiro II/RGB Histogram/01-Mudança de luminação Global/' + name)             "
   ]
  },
  {
   "cell_type": "code",
   "execution_count": null,
   "metadata": {},
   "outputs": [],
   "source": [
    "#img = (red_channel,green_channel,blue_channel)\n",
    "img = io.imread('C:/Tecnologias Digitais na Educação (TED)/UFBA 2021\\Tópicos em Computação Visual I/dataset/Pets_Dataset_New/Obs-Imagens Padronizadas/05 - Roteiro II/RGB Histogram/01-Mudança de luminação Global/cat.2332.jpg')\n",
    "img.shape"
   ]
  },
  {
   "cell_type": "code",
   "execution_count": null,
   "metadata": {},
   "outputs": [],
   "source": [
    "plt.imshow(img)\n",
    "ray = color.rgb2gray(img)\n",
    "\n",
    "plt.figure(figsize=(10,5))\n",
    "b, bins, patches = plt.hist(img.ravel())\n",
    "plt.title('Histograma de imagem em escala de cinza')\n",
    "plt.show()"
   ]
  },
  {
   "cell_type": "code",
   "execution_count": null,
   "metadata": {},
   "outputs": [],
   "source": [
    "#Deslocamento de Iluminação Global\n",
    "#Mudança e Deslocamento de Iluminação Global"
   ]
  },
  {
   "cell_type": "code",
   "execution_count": null,
   "metadata": {},
   "outputs": [],
   "source": []
  },
  {
   "cell_type": "code",
   "execution_count": null,
   "metadata": {},
   "outputs": [],
   "source": []
  },
  {
   "cell_type": "code",
   "execution_count": null,
   "metadata": {},
   "outputs": [],
   "source": []
  },
  {
   "cell_type": "code",
   "execution_count": null,
   "metadata": {},
   "outputs": [],
   "source": []
  }
 ],
 "metadata": {
  "kernelspec": {
   "display_name": "Python 3",
   "language": "python",
   "name": "python3"
  },
  "language_info": {
   "codemirror_mode": {
    "name": "ipython",
    "version": 3
   },
   "file_extension": ".py",
   "mimetype": "text/x-python",
   "name": "python",
   "nbconvert_exporter": "python",
   "pygments_lexer": "ipython3",
   "version": "3.8.5"
  }
 },
 "nbformat": 4,
 "nbformat_minor": 4
}
