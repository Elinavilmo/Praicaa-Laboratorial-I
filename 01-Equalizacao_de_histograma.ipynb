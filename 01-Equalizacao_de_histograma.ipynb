{
 "cells": [
  {
   "cell_type": "code",
   "execution_count": null,
   "metadata": {},
   "outputs": [],
   "source": [
    "import numpy as np\n",
    "import matplotlib\n",
    "import matplotlib.pyplot as plt\n",
    "\n",
    "from skimage import data\n",
    "from skimage.util import img_as_ubyte\n",
    "from skimage import exposure\n",
    "import skimage.morphology as morp\n",
    "from skimage.filters import rank\n",
    "from skimage.exposure import equalize_hist\n",
    "from skimage import io\n",
    "from glob import glob\n",
    "import os"
   ]
  },
  {
   "cell_type": "code",
   "execution_count": null,
   "metadata": {},
   "outputs": [],
   "source": [
    "path = ('caminho')\n",
    "files = glob(path +'/*jpg')"
   ]
  },
  {
   "cell_type": "code",
   "execution_count": null,
   "metadata": {},
   "outputs": [],
   "source": [
    "for file in files:\n",
    "    img = io.imread(file) \n",
    "    name = os.path.basename(file)\n",
    "    hist_equalized_img = equalize_hist(img)\n",
    "    io.imsave(fname ='C:/Tecnologias Digitais na Educação (TED)/UFBA 2021/Tópicos em Computação Visual I/dataset/Pets_Dataset_New/Obs-Imagens Padronizadas/01 - Equalização de histogramas/test/cats/' + name, arr=hist_equalized_img)\n",
    "\n",
    "    # Plotar histograma Equalizado\n",
    "    #fig,ax = plt.subplots(1,2,figsize=(20,5))\n",
    "    #ax[0].hist(img.ravel(),range(256));\n",
    "    #ax[0].set_title('(A) - histograma normal')\n",
    "    #ax[1].hist(hist_equalized_img.ravel()*256,bins=256);\n",
    "    #ax[1].set_title('(B) - histograma equalizado')\n"
   ]
  },
  {
   "cell_type": "code",
   "execution_count": null,
   "metadata": {},
   "outputs": [],
   "source": []
  }
 ],
 "metadata": {
  "kernelspec": {
   "display_name": "Python 3",
   "language": "python",
   "name": "python3"
  },
  "language_info": {
   "codemirror_mode": {
    "name": "ipython",
    "version": 3
   },
   "file_extension": ".py",
   "mimetype": "text/x-python",
   "name": "python",
   "nbconvert_exporter": "python",
   "pygments_lexer": "ipython3",
   "version": "3.8.5"
  }
 },
 "nbformat": 4,
 "nbformat_minor": 4
}
